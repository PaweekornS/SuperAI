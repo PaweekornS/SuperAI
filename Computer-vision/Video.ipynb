{
 "cells": [
  {
   "cell_type": "code",
   "execution_count": 1,
   "id": "a5e0c414",
   "metadata": {},
   "outputs": [],
   "source": [
    "import cv2\n",
    "import numpy as np"
   ]
  },
  {
   "cell_type": "markdown",
   "id": "c64a40e8",
   "metadata": {},
   "source": [
    "### Create a video\n",
    "- supported video format: DIVX, XVID, MJPG, X264, WMV1, WMV2, MP4V"
   ]
  },
  {
   "cell_type": "code",
   "execution_count": 3,
   "id": "07f9bf1d",
   "metadata": {},
   "outputs": [],
   "source": [
    "fourcc = cv2.VideoWriter_fourcc(*'mp4v')\n",
    "frame_size = (480, 640, 3)\n",
    "vdo_write = cv2.VideoWriter('out.mp4', fourcc, 30, (frame_size[1], frame_size[0]))\n",
    "\n",
    "for i in range(640):\n",
    "    frame = np.zeros(frame_size, np.uint8)\n",
    "    cv2.circle(frame, (i, 200), 20, (255, 255, 255), -1)\n",
    "    vdo_write.write(frame)\n",
    "    \n",
    "vdo_write.release()"
   ]
  },
  {
   "cell_type": "markdown",
   "id": "a93b77b6",
   "metadata": {},
   "source": [
    "### Import a video\n",
    "- Read frame-by-frame\n",
    "Read from:\n",
    "- filename: out.mp4, ...\n",
    "- webcam: 0, 1, 2 (Add cv2.CAP_DSHOW if it slowly opened)\n",
    "- IPcam, NVS: rtsp://\\<username>:\\<password>@192.168.1.47:554/"
   ]
  },
  {
   "cell_type": "code",
   "execution_count": 17,
   "id": "3a0c3400",
   "metadata": {},
   "outputs": [],
   "source": [
    "# Webcam\n",
    "# cap = cv2.VideoCapture(0, cv2.CAP_DSHOW)\n",
    "\n",
    "# file\n",
    "cap = cv2.VideoCapture('out.mp4')\n",
    "while cap.isOpened():\n",
    "    # ret: boolean -> if the frame is read correctly, it will be True\n",
    "    ret, frame = cap.read()\n",
    "    if ret:\n",
    "        # reverse direction by indexing frame \n",
    "        # ex. frame[:, ::-1, :] -> switch left-right\n",
    "        cv2.imshow('frame', frame)\n",
    "    if cv2.waitKey(1) == ord('q') or not ret:\n",
    "        break\n",
    "cap.release()\n",
    "cv2.destroyAllWindows()"
   ]
  },
  {
   "cell_type": "code",
   "execution_count": null,
   "id": "68f82cc2",
   "metadata": {},
   "outputs": [],
   "source": []
  }
 ],
 "metadata": {
  "kernelspec": {
   "display_name": "Python 3 (ipykernel)",
   "language": "python",
   "name": "python3"
  },
  "language_info": {
   "codemirror_mode": {
    "name": "ipython",
    "version": 3
   },
   "file_extension": ".py",
   "mimetype": "text/x-python",
   "name": "python",
   "nbconvert_exporter": "python",
   "pygments_lexer": "ipython3",
   "version": "3.11.5"
  }
 },
 "nbformat": 4,
 "nbformat_minor": 5
}
